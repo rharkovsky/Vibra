{
  "nbformat": 4,
  "nbformat_minor": 0,
  "metadata": {
    "colab": {
      "provenance": [],
      "authorship_tag": "ABX9TyO3lHs8qlndTz48wlBzp8sJ",
      "include_colab_link": true
    },
    "kernelspec": {
      "name": "python3",
      "display_name": "Python 3"
    },
    "language_info": {
      "name": "python"
    }
  },
  "cells": [
    {
      "cell_type": "markdown",
      "metadata": {
        "id": "view-in-github",
        "colab_type": "text"
      },
      "source": [
        "<a href=\"https://colab.research.google.com/github/rharkovsky/senacPython/blob/main/Introdu%C3%A7%C3%A3o_Programa%C3%A7%C3%A3o_AV1.ipynb\" target=\"_parent\"><img src=\"https://colab.research.google.com/assets/colab-badge.svg\" alt=\"Open In Colab\"/></a>"
      ]
    },
    {
      "cell_type": "markdown",
      "source": [
        "# Avaliação 1\n",
        "\n",
        "1. Faça um programa que calcule e apresente o valor da hipotenusa “c” de um triângulo retângulo, dado o valor de seus catetos “a” e “b”, segundo a fórmula:\n",
        "c=√(a^2+b^2 )\n"
      ],
      "metadata": {
        "id": "LpDleLLgyomH"
      }
    },
    {
      "cell_type": "code",
      "execution_count": null,
      "metadata": {
        "colab": {
          "base_uri": "https://localhost:8080/"
        },
        "id": "FCeCyMNFxvIb",
        "outputId": "ca1b89c7-2633-45e2-8164-018d56e0cc44"
      },
      "outputs": [
        {
          "output_type": "stream",
          "name": "stdout",
          "text": [
            "entre com o 1o cateto:4\n",
            "entre com o 2o cateto:3\n",
            "A hipotenusa é 5.0\n"
          ]
        }
      ],
      "source": [
        "c1 = int(input('entre com o 1o cateto:'))\n",
        "c2 = int(input('entre com o 2o cateto:'))\n",
        "hip = (c1**2+c2**2)**0.5\n",
        "print(f'A hipotenusa é {hip}')"
      ]
    },
    {
      "cell_type": "markdown",
      "source": [
        "2.\tFaça um programa que leia os 3 lados quaisquer de um triangulo e determine se ele é um triangulo retângulo. Para isto utilize a fórmula do item anterior nesta checagem."
      ],
      "metadata": {
        "id": "RWdyJTubzdPD"
      }
    },
    {
      "cell_type": "code",
      "source": [
        "lado1 = int(input('entre com o 1o lado:'))\n",
        "lado2 = int(input('entre com o 2o lado:'))\n",
        "lado3 = int(input('entre com o 3o lado:'))\n",
        "\n",
        "if lado1>0 and lado2>0 and lado3>0:\n",
        "  if lado3 == (lado1**2+lado2**2)**0.5 or lado2 == (lado1**2+lado3**2)**0.5 or lado1 == (lado2**2+lado3**2)**0.5:\n",
        "    print(f' os lados {lado1}, {lado2}e {lado3} formam um triangulo retangulo')\n",
        "  else:\n",
        "    print(f'Não formam um triangulo retangulo')\n",
        "else:\n",
        "  print(f'DADOS INVÁLIDOS')"
      ],
      "metadata": {
        "colab": {
          "base_uri": "https://localhost:8080/"
        },
        "id": "S_QtIj_-z_4z",
        "outputId": "56837fd2-5c5e-42db-c2d4-feea422325e5"
      },
      "execution_count": null,
      "outputs": [
        {
          "output_type": "stream",
          "name": "stdout",
          "text": [
            "entre com o 1o lado:4\n",
            "entre com o 2o lado:4\n",
            "entre com o 3o lado:4\n",
            "Não formam um triangulo retan=gulo\n"
          ]
        }
      ]
    },
    {
      "cell_type": "markdown",
      "source": [
        "3.\tFaça um programa em Python que leia um número inteiro N menor que 1.000 e apresente todos os números ímpares de 1 a N, inclusive N "
      ],
      "metadata": {
        "id": "bZol2FVVzXMV"
      }
    },
    {
      "cell_type": "code",
      "source": [
        "num = int(input('entre com numero menor que 1000: '))\n",
        "while num >1000:\n",
        "  num = int(input('entre com numero menor que 1000: '))\n",
        "\n",
        "for i in range (1,num,2):\n",
        "  print(i)"
      ],
      "metadata": {
        "colab": {
          "base_uri": "https://localhost:8080/"
        },
        "id": "yw8MQsHn3tn_",
        "outputId": "07c03785-9fb1-4246-f99e-0d5eab9fdbb3"
      },
      "execution_count": null,
      "outputs": [
        {
          "output_type": "stream",
          "name": "stdout",
          "text": [
            "entre com numero menor que 1000: 20\n",
            "1\n",
            "3\n",
            "5\n",
            "7\n",
            "9\n",
            "11\n",
            "13\n",
            "15\n",
            "17\n",
            "19\n"
          ]
        }
      ]
    },
    {
      "cell_type": "markdown",
      "source": [
        "4.\tFaça um programa em Python que leia um conjunto indeterminado de dados, contendo cada um a idade de um indivíduo, e calcule e imprima a média aritmetica de idades do grupo. O último dado, que não entrará no cálculo da média deve ser um valor negativo."
      ],
      "metadata": {
        "id": "1Q9GXU1yzkSu"
      }
    },
    {
      "cell_type": "code",
      "source": [
        "idade = int(input('entre com uma idade: '))\n",
        "contIdade = 0\n",
        "somaIdade = 0\n",
        "while idade> 0:\n",
        "  contIdade +=1\n",
        "  somaIdade = somaIdade+idade\n",
        "  idade = int(input('entre com uma idade: '))\n",
        "\n",
        "print(f'A media é {somaIdade/contIdade:.1f}')\n"
      ],
      "metadata": {
        "colab": {
          "base_uri": "https://localhost:8080/"
        },
        "id": "Yi9gbUtJ4jPI",
        "outputId": "d7662e9c-1d5c-4f12-965b-6109b9ac8116"
      },
      "execution_count": null,
      "outputs": [
        {
          "output_type": "stream",
          "name": "stdout",
          "text": [
            "entre com uma idade: 30\n",
            "entre com uma idade: 20\n",
            "entre com uma idade: -4\n",
            "A media é 25.0\n"
          ]
        }
      ]
    },
    {
      "cell_type": "markdown",
      "source": [
        "5.\tFaça um programa em Python que leia um número inteiro “N”, calcule e apresente todos os seus divisores. (Dica: use uma estrutura while para testar todos os possíveis divisores)"
      ],
      "metadata": {
        "id": "4C4-GGTtzoDJ"
      }
    },
    {
      "cell_type": "code",
      "source": [
        "num = int(input('entre com numero menor que 1000: '))\n",
        "divisor =1\n",
        "while divisor <= num:\n",
        "  if num%divisor==0:\n",
        "    print(divisor)\n",
        "\n",
        "  divisor +=1"
      ],
      "metadata": {
        "colab": {
          "base_uri": "https://localhost:8080/"
        },
        "id": "7kVQxFQJ6D-K",
        "outputId": "1d542231-ce5a-4a7b-e559-229e3fe5f3c9"
      },
      "execution_count": null,
      "outputs": [
        {
          "output_type": "stream",
          "name": "stdout",
          "text": [
            "entre com numero menor que 1000: 20\n",
            "1\n",
            "2\n",
            "4\n",
            "5\n",
            "10\n",
            "20\n"
          ]
        }
      ]
    },
    {
      "cell_type": "markdown",
      "source": [
        "6.\tUm posto de combustível deseja gerenciar a preferência de produto por seus clientes. Para isto é solicitado um programa em Python que leia o código do combustível escolhido segundo a tabela abaixo:\n",
        "\n",
        "combustível escolhido segundo a tabela abaixo:\n",
        "\n",
        "Combustível\tCódigo\n",
        "\n",
        "Gasolina\t1\n",
        "\n",
        "Álcool\t2\n",
        "\n",
        "Diesel\t3\n",
        "\n",
        "Fim\t4\n",
        "\n",
        "Caso o usuário digite um valor inválido, deve ser solicitado um novo valor até que seja válido. O programa é encerrado quando se digita o código 4, quando então o cálculo é feito e a mensagem “Muito Obrigado” juntamente com a resposta é apresentada.\n",
        "\n"
      ],
      "metadata": {
        "id": "Wpaci1sHzrkA"
      }
    },
    {
      "cell_type": "code",
      "source": [
        "print(f'Escolha o combustivel:')\n",
        "print(f'1 para gasolina:')\n",
        "print(f'2 para alcool:')\n",
        "print(f'3 para diesel:')\n",
        "print(f'4 para encerrar:')\n",
        "escolha = int(input('entre com um combustivel: '))\n",
        "\n",
        "contgas = 0\n",
        "contalcool = 0\n",
        "contdiesel = 0\n",
        "\n",
        "while True:\n",
        "  if escolha == 1:\n",
        "    contgas += 1\n",
        "  elif escolha == 2:\n",
        "    contalcool += 1\n",
        "  elif escolha ==3:\n",
        "    contdiesel +=1\n",
        "  elif escolha ==4:\n",
        "    break\n",
        "  else:\n",
        "    print(f'Escolha inválida!!')\n",
        "\n",
        "  print(f'Escolha o combustivel:')\n",
        "  print(f'1 para gasolina:')\n",
        "  print(f'2 para alcool:')\n",
        "  print(f'3 para diesel:')\n",
        "  print(f'4 para encerrar:')\n",
        "  escolha = int(input('entre com um combustivel: '))\n",
        "\n",
        "\n",
        "print(f'MUITO OBRIGADO')\n",
        "print(f'Gasolina: {contgas}')\n",
        "print(f'Alcool: {contalcool}')\n",
        "print(f'Diesel: {contdiesel}')"
      ],
      "metadata": {
        "id": "rZ8DPpfe8v79",
        "colab": {
          "base_uri": "https://localhost:8080/"
        },
        "outputId": "bda6e11a-7e56-4e8b-a229-5ffa6db0ced2"
      },
      "execution_count": 37,
      "outputs": [
        {
          "output_type": "stream",
          "name": "stdout",
          "text": [
            "Escolha o combustivel:\n",
            "1 para gasolina:\n",
            "2 para alcool:\n",
            "3 para diesel:\n",
            "4 para encerrar:\n",
            "entre com um combustivel: 1\n",
            "Escolha o combustivel:\n",
            "1 para gasolina:\n",
            "2 para alcool:\n",
            "3 para diesel:\n",
            "4 para encerrar:\n",
            "entre com um combustivel: 1\n",
            "Escolha o combustivel:\n",
            "1 para gasolina:\n",
            "2 para alcool:\n",
            "3 para diesel:\n",
            "4 para encerrar:\n",
            "entre com um combustivel: 2\n",
            "Escolha o combustivel:\n",
            "1 para gasolina:\n",
            "2 para alcool:\n",
            "3 para diesel:\n",
            "4 para encerrar:\n",
            "entre com um combustivel: 3\n",
            "Escolha o combustivel:\n",
            "1 para gasolina:\n",
            "2 para alcool:\n",
            "3 para diesel:\n",
            "4 para encerrar:\n",
            "entre com um combustivel: 6\n",
            "Escolha inválida!!\n",
            "Escolha o combustivel:\n",
            "1 para gasolina:\n",
            "2 para alcool:\n",
            "3 para diesel:\n",
            "4 para encerrar:\n",
            "entre com um combustivel: 4\n",
            "MUITO OBRIGADO\n",
            "Gasolina: 2\n",
            "Alcool: 1\n",
            "Diesel: 1\n"
          ]
        }
      ]
    },
    {
      "cell_type": "markdown",
      "source": [
        "7.\tFaça um programa em Python que leia um número inteiro “N” maior que zero, e escreva a sequência de Fibonacci com “n” termos:"
      ],
      "metadata": {
        "id": "RlUo9gBmztYb"
      }
    },
    {
      "cell_type": "code",
      "source": [
        "num = int(input('entre com numero  maior que 0: '))\n",
        "n0 =1\n",
        "n1 = 1\n",
        "\n",
        "if num==1:\n",
        "  print(n0)\n",
        "elif num==2:\n",
        "  print(f'{n0}')\n",
        "  print(f'{n1}')\n",
        "else:\n",
        "  print(f'{n0}')\n",
        "  print(f'{n1}')\n",
        "  i=3\n",
        "  n2=n0+n1\n",
        "  while i <= num:\n",
        "    n2= n1 + n0\n",
        "    print (n2)\n",
        "\n",
        "    n0=n1\n",
        "    n1=n2\n",
        "    i+=1"
      ],
      "metadata": {
        "colab": {
          "base_uri": "https://localhost:8080/"
        },
        "id": "Vy3cz1qsK9Ap",
        "outputId": "aa1c48ef-cf75-42d9-9055-f8c948349399"
      },
      "execution_count": 34,
      "outputs": [
        {
          "output_type": "stream",
          "name": "stdout",
          "text": [
            "entre com numero  maior que 0: 10\n",
            "1\n",
            "1\n",
            "2\n",
            "3\n",
            "5\n",
            "8\n",
            "13\n",
            "21\n",
            "34\n",
            "55\n"
          ]
        }
      ]
    }
  ]
}